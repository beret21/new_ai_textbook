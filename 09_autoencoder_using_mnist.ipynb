{
 "cells": [
  {
   "cell_type": "markdown",
   "metadata": {},
   "source": [
    "# 텐서플로우를 이용한 오토인코더 (Autoencoder) 예제"
   ]
  },
  {
   "cell_type": "markdown",
   "metadata": {},
   "source": [
    "대표적인 unsupervised learning의 하나인 오토인코더에 대해 살펴 봅니다. 오토인코더는 입력 값으로 이미지만 들어가게 되며 (레이블 없음) 은닉 계층의 노드의 수가 입력 계층의 노드수보다 적도록 구성합니다. 출력 계층의 노드 수는 입력 계층의 노드 수와 동일합니다. 은닉 계층의 노드 수가 적기 때문에 주요 특징량 (feature) 위주로 추출을 하게 되어 마치 PCA (Principal Component Analysis) 에서와 유사한 효과를 얻을 수 있습니다. 출력 계층에서는 입력 계층의 값을 복원 (reconstruction) 할 수 있습니다. "
   ]
  },
  {
   "cell_type": "markdown",
   "metadata": {},
   "source": [
    "### 1. 필요한 모듈들을 불러옵니다. "
   ]
  },
  {
   "cell_type": "code",
   "execution_count": 1,
   "metadata": {
    "collapsed": false
   },
   "outputs": [],
   "source": [
    "import tensorflow as tf\n",
    "import numpy as np\n",
    "import matplotlib.pyplot as plt"
   ]
  },
  {
   "cell_type": "code",
   "execution_count": 2,
   "metadata": {
    "collapsed": false
   },
   "outputs": [
    {
     "name": "stdout",
     "output_type": "stream",
     "text": [
      "Extracting ./data/mnist/train-images-idx3-ubyte.gz\n",
      "Extracting ./data/mnist/train-labels-idx1-ubyte.gz\n",
      "Extracting ./data/mnist/t10k-images-idx3-ubyte.gz\n",
      "Extracting ./data/mnist/t10k-labels-idx1-ubyte.gz\n"
     ]
    }
   ],
   "source": [
    "from tensorflow.examples.tutorials.mnist import input_data\n",
    "mnist = input_data.read_data_sets('./data/mnist/', one_hot=True)"
   ]
  },
  {
   "cell_type": "markdown",
   "metadata": {},
   "source": [
    "### 2. 하이퍼 파라미터 설정"
   ]
  },
  {
   "cell_type": "markdown",
   "metadata": {},
   "source": [
    "우리가 구축하고자 하는 오토인코더는 아래와 같이 구성됩니다.\n",
    "* 입력 계층의 노드 수 : MNIST 이미지의 픽셀수와 동일. 28 x 28 = 784\n",
    "* 은닉 계층의 노드 수 : 256 (784 보다 작은 값으로 설정)\n",
    "* 출력 계층의 노드 수 : 입력계층의 노드수와 동일. 28 x 28 = 784\n",
    "\n",
    "오토인코더는 인코더와 디코더로 구성됩니다.\n",
    "* Encoder : 입력 계층 --> 은닉 계층\n",
    "* Decoder : 은닉 계층 --> 출력 계층"
   ]
  },
  {
   "cell_type": "code",
   "execution_count": 7,
   "metadata": {
    "collapsed": false
   },
   "outputs": [],
   "source": [
    "# Model 관련 hyperparameters\n",
    "num_input = 28*28 # \"입력 계층 노드 수 == 출력 계층 노드 수\" 이므로 num_output은 따로 정의하지 않았습니다.\n",
    "num_hidden = 256\n",
    "\n",
    "# Learning 관련 hyperparameters\n",
    "learning_rate = 0.01\n",
    "training_epoch = 10\n",
    "batch_size = 100\n",
    "\n",
    "# Evaluation 관련 hyperparameters\n",
    "num_output_sample = 10"
   ]
  },
  {
   "cell_type": "markdown",
   "metadata": {},
   "source": [
    "### 3. 모델 만들기"
   ]
  },
  {
   "cell_type": "markdown",
   "metadata": {},
   "source": [
    "Autoencoder에서는 label이 없습니다. 그러므로 입력값으로 x_true만 주면 됩니다."
   ]
  },
  {
   "cell_type": "code",
   "execution_count": 8,
   "metadata": {
    "collapsed": false
   },
   "outputs": [],
   "source": [
    "x_true = tf.placeholder(tf.float32, [None, num_input])"
   ]
  },
  {
   "cell_type": "markdown",
   "metadata": {},
   "source": [
    "다만 loss function의 기준으로 삼기 위해 y_true를 x_true와 동일하게 설정해 줍니다. "
   ]
  },
  {
   "cell_type": "code",
   "execution_count": 9,
   "metadata": {
    "collapsed": true
   },
   "outputs": [],
   "source": [
    "y_true = x_true"
   ]
  },
  {
   "cell_type": "markdown",
   "metadata": {},
   "source": [
    "Encoder의 가중치와 바이어스를 정의해 줍니다."
   ]
  },
  {
   "cell_type": "code",
   "execution_count": 12,
   "metadata": {
    "collapsed": true
   },
   "outputs": [],
   "source": [
    "weight_encoder = tf.Variable(tf.truncated_normal([num_input, num_hidden]))\n",
    "bias_encoder = tf.Variable(tf.truncated_normal([num_hidden]))"
   ]
  },
  {
   "cell_type": "markdown",
   "metadata": {},
   "source": [
    "Decoder의 가중치와 바이어스를 정의해 줍니다. "
   ]
  },
  {
   "cell_type": "code",
   "execution_count": 13,
   "metadata": {
    "collapsed": true
   },
   "outputs": [],
   "source": [
    "weight_decoder = tf.Variable(tf.truncated_normal([num_hidden, num_input]))\n",
    "bias_decoder = tf.Variable(tf.truncated_normal([num_input]))"
   ]
  },
  {
   "cell_type": "markdown",
   "metadata": {},
   "source": [
    "Encoder와 decoder에 linear 연산과 non-linearity를 적용해 줍니다. "
   ]
  },
  {
   "cell_type": "code",
   "execution_count": 14,
   "metadata": {
    "collapsed": false
   },
   "outputs": [],
   "source": [
    "encoder = tf.nn.sigmoid(tf.add(tf.matmul(x_true, weight_encoder), bias_encoder))\n",
    "decoder = tf.nn.sigmoid(tf.add(tf.matmul(encoder, weight_decoder), bias_decoder))"
   ]
  },
  {
   "cell_type": "markdown",
   "metadata": {},
   "source": [
    "y_true (원본 이미지) 와 decoder의 결과 값의 차이가 비용이 됩니다. \n",
    "* cost를 최소화하기 위해 학습을 진행하게 됩니다. "
   ]
  },
  {
   "cell_type": "code",
   "execution_count": 16,
   "metadata": {
    "collapsed": false
   },
   "outputs": [],
   "source": [
    "cost = tf.reduce_mean(tf.square(y_true - decoder))\n",
    "optimizer = tf.train.AdamOptimizer(learning_rate)\n",
    "optimizer = optimizer.minimize(cost)"
   ]
  },
  {
   "cell_type": "markdown",
   "metadata": {},
   "source": [
    "### 4. 모델 학습시키기"
   ]
  },
  {
   "cell_type": "code",
   "execution_count": 17,
   "metadata": {
    "collapsed": true
   },
   "outputs": [],
   "source": [
    "sess = tf.Session()\n",
    "sess.run(tf.global_variables_initializer())"
   ]
  },
  {
   "cell_type": "code",
   "execution_count": 18,
   "metadata": {
    "collapsed": false,
    "scrolled": false
   },
   "outputs": [],
   "source": [
    "total_batch = mnist.train.num_examples/batch_size # 550"
   ]
  },
  {
   "cell_type": "code",
   "execution_count": 19,
   "metadata": {
    "collapsed": false
   },
   "outputs": [
    {
     "name": "stdout",
     "output_type": "stream",
     "text": [
      "Epoch : 1, Cost : 0.053889535591\n",
      "Epoch : 2, Cost : 0.0289198573306\n",
      "Epoch : 3, Cost : 0.0247277187353\n",
      "Epoch : 4, Cost : 0.0222807110474\n",
      "Epoch : 5, Cost : 0.0211536369337\n",
      "Epoch : 6, Cost : 0.0200326601992\n",
      "Epoch : 7, Cost : 0.0193551677042\n",
      "Epoch : 8, Cost : 0.0190374543772\n",
      "Epoch : 9, Cost : 0.0186895289712\n",
      "Epoch : 10, Cost : 0.0185069922409\n",
      "최적화가 완료되었습니다.\n"
     ]
    }
   ],
   "source": [
    "for epoch in range(training_epoch):\n",
    "    total_cost = 0\n",
    "    for i in range(total_batch):\n",
    "        batch_xs, batch_ys = mnist.train.next_batch(batch_size)\n",
    "        _, cost_value = sess.run([optimizer, cost], {x_true:batch_xs})\n",
    "        total_cost += cost_value\n",
    "    print \"Epoch : {0}, Cost : {1}\".format(epoch+1, total_cost/total_batch)\n",
    "print \"최적화가 완료되었습니다.\""
   ]
  },
  {
   "cell_type": "markdown",
   "metadata": {},
   "source": [
    "### 5. 평가하기"
   ]
  },
  {
   "cell_type": "code",
   "execution_count": 22,
   "metadata": {
    "collapsed": false
   },
   "outputs": [
    {
     "data": {
      "image/png": "[encoded data removed]",
      "text/plain": [
       "<matplotlib.figure.Figure at 0x123e0bd10>"
      ]
     },
     "metadata": {},
     "output_type": "display_data"
    }
   ],
   "source": [
    "samples = sess.run(decoder, {x_true: mnist.test.images[:num_output_sample]})\n",
    "fig, ax = plt.subplots(2, num_output_sample, figsize=(num_output_sample,2))\n",
    "for i in range(num_output_sample):\n",
    "    ax[0][i].set_axis_off\n",
    "    ax[1][i].set_axis_off\n",
    "    ax[0][i].imshow(np.reshape(mnist.test.images[i], (28,28)))\n",
    "    ax[1][i].imshow(np.reshape(samples[i], (28,28)))\n",
    "plt.show()"
   ]
  },
  {
   "cell_type": "code",
   "execution_count": null,
   "metadata": {
    "collapsed": true
   },
   "outputs": [],
   "source": []
  }
 ],
 "metadata": {
  "kernelspec": {
   "display_name": "Python 2",
   "language": "python",
   "name": "python2"
  },
  "language_info": {
   "codemirror_mode": {
    "name": "ipython",
    "version": 2
   },
   "file_extension": ".py",
   "mimetype": "text/x-python",
   "name": "python",
   "nbconvert_exporter": "python",
   "pygments_lexer": "ipython2",
   "version": "2.7.10"
  }
 },
 "nbformat": 4,
 "nbformat_minor": 2
}
