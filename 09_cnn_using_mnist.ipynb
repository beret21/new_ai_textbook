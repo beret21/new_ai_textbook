{
 "cells": [
  {
   "cell_type": "markdown",
   "metadata": {},
   "source": [
    "# 9.7. 텐서플로우를 이용한 CNN (Convolutional Neural Network) 예제"
   ]
  },
  {
   "cell_type": "markdown",
   "metadata": {},
   "source": [
    "여기에서는 CNN을 구축하고 학습시킴으로써, MNIST 데이터에 대해 얼마만큼 정확하게 맞추는 지 확인해 보도록 하겠습니다. \n",
    "\n",
    "POINT\n",
    "* CNN 모델을 구축합니다.\n",
    "* CNN 모델을 MNIST 데이터에 대해 학습시키고 평가합니다."
   ]
  },
  {
   "cell_type": "markdown",
   "metadata": {},
   "source": [
    "### 9.7.1. 필요한 모듈 불러오기"
   ]
  },
  {
   "cell_type": "code",
   "execution_count": 6,
   "metadata": {
    "collapsed": true
   },
   "outputs": [],
   "source": [
    "import tensorflow as tf"
   ]
  },
  {
   "cell_type": "code",
   "execution_count": 7,
   "metadata": {
    "collapsed": true
   },
   "outputs": [],
   "source": [
    "from tensorflow.examples.tutorials.mnist import input_data"
   ]
  },
  {
   "cell_type": "code",
   "execution_count": 8,
   "metadata": {
    "collapsed": false
   },
   "outputs": [
    {
     "name": "stdout",
     "output_type": "stream",
     "text": [
      "Extracting ./data/mnist/train-images-idx3-ubyte.gz\n",
      "Extracting ./data/mnist/train-labels-idx1-ubyte.gz\n",
      "Extracting ./data/mnist/t10k-images-idx3-ubyte.gz\n",
      "Extracting ./data/mnist/t10k-labels-idx1-ubyte.gz\n"
     ]
    }
   ],
   "source": [
    "mnist = input_data.read_data_sets(\"./data/mnist\", one_hot=True)"
   ]
  },
  {
   "cell_type": "markdown",
   "metadata": {},
   "source": [
    "MNIST 데이터에 대한 설명은 앞에서 상세히 하였으므로 여기에서는 생략합니다. "
   ]
  },
  {
   "cell_type": "markdown",
   "metadata": {},
   "source": [
    "### 9.7.2. CNN 모델 만들기"
   ]
  },
  {
   "cell_type": "markdown",
   "metadata": {},
   "source": [
    "입력 계층을 플레이스홀더로 정의해 줍니다."
   ]
  },
  {
   "cell_type": "code",
   "execution_count": 9,
   "metadata": {
    "collapsed": false
   },
   "outputs": [],
   "source": [
    "x_true = tf.placeholder(tf.float32, [None, 28, 28, 1])\n",
    "y_true = tf.placeholder(tf.float32, [None, 10])"
   ]
  },
  {
   "cell_type": "markdown",
   "metadata": {},
   "source": [
    "은닉 계층 1을 정의해 줍니다.\n",
    "* (3,3) 크기를 가지는 필터를 설정합니다.\n",
    "* Stride와 padding을 설정하여 convolution을 실행합니다.\n",
    "* Non-linearity로 ReLU를 적용합니다. \n",
    "* Max pooling을 수행합니다. \n",
    "* 0.8의 확률로 dropout을 수행합니다."
   ]
  },
  {
   "cell_type": "code",
   "execution_count": 10,
   "metadata": {
    "collapsed": false
   },
   "outputs": [],
   "source": [
    "weight_1 = tf.Variable(tf.truncated_normal([3,3,1,32], stddev=0.01))\n",
    "hidden_1 = tf.nn.conv2d(x_true, weight_1, strides=[1,1,1,1], padding='SAME')\n",
    "hidden_1 = tf.nn.relu(hidden_1)\n",
    "hidden_1 = tf.nn.max_pool(hidden_1, ksize=[1,2,2,1], strides=[1,2,2,1], padding='SAME')\n",
    "hidden_1 = tf.nn.dropout(hidden_1, keep_prob=0.8)"
   ]
  },
  {
   "cell_type": "markdown",
   "metadata": {},
   "source": [
    "은닉 계층 2를 정의해 줍니다. \n",
    "* 절차는 은닉 계층 1과 대동소이합니다."
   ]
  },
  {
   "cell_type": "code",
   "execution_count": 11,
   "metadata": {
    "collapsed": true
   },
   "outputs": [],
   "source": [
    "weight_2 = tf.Variable(tf.truncated_normal([3,3,32,64], stddev=0.01))\n",
    "hidden_2 = tf.nn.conv2d(hidden_1, weight_2, strides=[1,1,1,1], padding='SAME')\n",
    "hidden_2 = tf.nn.relu(hidden_2)\n",
    "hidden_2 = tf.nn.max_pool(hidden_2, ksize=[1,2,2,1], strides=[1,2,2,1], padding='SAME')"
   ]
  },
  {
   "cell_type": "markdown",
   "metadata": {},
   "source": [
    "FC (Fully Connected) 계층으로 가기 위해 hidden_2의 차원을 줄여줍니다."
   ]
  },
  {
   "cell_type": "code",
   "execution_count": 12,
   "metadata": {
    "collapsed": true
   },
   "outputs": [],
   "source": [
    "hidden_2 = tf.reshape(hidden_2, [-1,7*7*64]) # -1은 나머지 전체를 의미\n",
    "hidden_2 = tf.nn.dropout(hidden_2, keep_prob=0.8)"
   ]
  },
  {
   "cell_type": "markdown",
   "metadata": {},
   "source": [
    "FC 계층을 정의해 줍니다. \n",
    "* 단순히 matmul() 연산을 수행합니다.\n",
    "* ReLU와 dropout을 적용합니다."
   ]
  },
  {
   "cell_type": "code",
   "execution_count": 13,
   "metadata": {
    "collapsed": false
   },
   "outputs": [],
   "source": [
    "weight_3 = tf.Variable(tf.truncated_normal([7*7*64, 256], stddev=0.01))\n",
    "fc_1 = tf.matmul(hidden_2, weight_3)\n",
    "fc_1 = tf.nn.relu(fc_1)\n",
    "fc_1 = tf.nn.dropout(fc_1, 0.5)"
   ]
  },
  {
   "cell_type": "markdown",
   "metadata": {},
   "source": [
    "최종 계층인 소프트맥스 계층을 정의해 줍니다. "
   ]
  },
  {
   "cell_type": "code",
   "execution_count": 14,
   "metadata": {
    "collapsed": true
   },
   "outputs": [],
   "source": [
    "weight_4 = tf.Variable(tf.truncated_normal([256,10], stddev=0.01))\n",
    "y_pred = tf.matmul(fc_1, weight_4)"
   ]
  },
  {
   "cell_type": "markdown",
   "metadata": {},
   "source": [
    "cost와 optimizer를 정의해 줍니다."
   ]
  },
  {
   "cell_type": "code",
   "execution_count": 15,
   "metadata": {
    "collapsed": true
   },
   "outputs": [],
   "source": [
    "cost = tf.nn.softmax_cross_entropy_with_logits(logits=y_pred, labels=y_true)\n",
    "cost = tf.reduce_mean(cost)\n",
    "optimizer = tf.train.AdamOptimizer(learning_rate=0.01)\n",
    "optimizer = optimizer.minimize(cost)"
   ]
  },
  {
   "cell_type": "markdown",
   "metadata": {},
   "source": [
    "### 9.7.3. CNN 모델 학습시키기"
   ]
  },
  {
   "cell_type": "code",
   "execution_count": 16,
   "metadata": {
    "collapsed": true
   },
   "outputs": [],
   "source": [
    "sess = tf.Session()\n",
    "sess.run(tf.global_variables_initializer())"
   ]
  },
  {
   "cell_type": "code",
   "execution_count": 17,
   "metadata": {
    "collapsed": true
   },
   "outputs": [],
   "source": [
    "batch_size = 100\n",
    "num_batch = int(mnist.train.num_examples/batch_size)"
   ]
  },
  {
   "cell_type": "markdown",
   "metadata": {},
   "source": [
    "실제 학습을 진행합니다. \n",
    "* 기본 신경망과는 비교가 안 되게 오랜 시간이 소요되니 주의하시기 바랍니다."
   ]
  },
  {
   "cell_type": "code",
   "execution_count": 18,
   "metadata": {
    "collapsed": false
   },
   "outputs": [
    {
     "name": "stdout",
     "output_type": "stream",
     "text": [
      "Epoch : 1, Cost : 0.289691926761\n",
      "Epoch : 2, Cost : 0.150766817182\n",
      "Epoch : 3, Cost : 0.138363266345\n",
      "Epoch : 4, Cost : 0.127491725536\n",
      "Epoch : 5, Cost : 0.129692074318\n",
      "Epoch : 6, Cost : 0.126229241216\n",
      "Epoch : 7, Cost : 0.128616164236\n",
      "Epoch : 8, Cost : 0.121198371507\n",
      "Epoch : 9, Cost : 0.125352199122\n",
      "Epoch : 10, Cost : 0.116573325987\n",
      "최적화가 완료되었습니다.\n"
     ]
    }
   ],
   "source": [
    "for epoch in range(10):\n",
    "    total_cost = 0\n",
    "    for i in range(num_batch):\n",
    "        batch_xs, batch_ys = mnist.train.next_batch(batch_size)\n",
    "        # CNN 모델을 위한 자료형인 [28,28,1]의 형태로 reshaping\n",
    "        batch_xs = batch_xs.reshape(-1,28,28,1)\n",
    "        _, cost_value = sess.run([optimizer, cost], \n",
    "                           {x_true:batch_xs, y_true:batch_ys})\n",
    "        total_cost += cost_value\n",
    "    print \"Epoch : {0}, Cost : {1}\".format(epoch + 1, total_cost/num_batch)\n",
    "print \"최적화가 완료되었습니다.\""
   ]
  },
  {
   "cell_type": "markdown",
   "metadata": {},
   "source": [
    "### 9.7.4. 평가하기"
   ]
  },
  {
   "cell_type": "markdown",
   "metadata": {},
   "source": [
    "정확도를 계산합니다. "
   ]
  },
  {
   "cell_type": "code",
   "execution_count": 19,
   "metadata": {
    "collapsed": false
   },
   "outputs": [
    {
     "name": "stdout",
     "output_type": "stream",
     "text": [
      "정확도 : 0.971700012684\n"
     ]
    }
   ],
   "source": [
    "correct_prediction = tf.equal(tf.argmax(y_pred,1), tf.argmax(y_true,1))\n",
    "accuracy = tf.reduce_mean(tf.cast(correct_prediction, tf.float32))\n",
    "print \"정확도 : {0}\".format(sess.run(accuracy, \n",
    "                                  {x_true:mnist.test.images.reshape(-1, 28, 28, 1), \n",
    "                                   y_true:mnist.test.labels}))"
   ]
  },
  {
   "cell_type": "markdown",
   "metadata": {},
   "source": [
    "불과 10번의 학습으로 97.1%라는 정확도를 얻은 것을 확인할 수 있었습니다. "
   ]
  }
 ],
 "metadata": {
  "kernelspec": {
   "display_name": "Python 2",
   "language": "python",
   "name": "python2"
  },
  "language_info": {
   "codemirror_mode": {
    "name": "ipython",
    "version": 2
   },
   "file_extension": ".py",
   "mimetype": "text/x-python",
   "name": "python",
   "nbconvert_exporter": "python",
   "pygments_lexer": "ipython2",
   "version": "2.7.10"
  }
 },
 "nbformat": 4,
 "nbformat_minor": 2
}
